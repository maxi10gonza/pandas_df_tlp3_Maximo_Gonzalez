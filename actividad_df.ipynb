{
 "cells": [
  {
   "cell_type": "markdown",
   "id": "12ad2501",
   "metadata": {},
   "source": [
    "# Actividad - Trabajando con DataFrames de Pandas.\n",
    "## Criterios de evaluación.\n",
    "\n",
    "* Se deben utilizar nombres de variables descriptivos y claros (Utilizar la nomeclatura correspondiente para los nombres de variables).\n",
    "* Comentarios claros y concisos que expliquen el propósito de cada sección del código.\n",
    "* Utilizar mensajes de commit **descriptivos**. (Puedes utilizar la extension CONVENTIONAL COMMIT de VS-CODE). \n",
    "* Entrega en tiempo y forma.\n",
    "* Todo el código desarrollado debe ser subido a un repositorio en GitHub (el nombre del repositorio de seguir la siguiente estructura: pandas_df_tlp3_nombre_apellido).\n",
    "* Para resolver las actividades se debe insertar casillas de codigo entre cada actividad del cuaderno de Jupyter\n",
    "* Deben trabajar con el datasets adjunto a la actividad\n",
    "\n",
    "### ¡Importante!\n",
    "**El incumplimiento de los criterios de evaluación restará puntos en la nota final del práctico!**"
   ]
  },
  {
   "cell_type": "code",
   "execution_count": 4,
   "id": "afc60e66",
   "metadata": {},
   "outputs": [],
   "source": [
    "import pandas as pd\n",
    "import sqlite3\n",
    "\n",
    "#Aqui agrega la conexión a la base de datos\n",
    "conn = sqlite3.connect(\"Salaries.sqlite\")\n",
    "\n",
    "#Crea el dataframe con los datos del datasets\n",
    "df = pd.read_sql_query(\"SELECT * FROM Salaries\", conn)\n",
    "conn.close()"
   ]
  },
  {
   "cell_type": "code",
   "execution_count": 11,
   "id": "2c28afc4",
   "metadata": {},
   "outputs": [
    {
     "data": {
      "text/plain": [
       "(148654, 13)"
      ]
     },
     "execution_count": 11,
     "metadata": {},
     "output_type": "execute_result"
    }
   ],
   "source": [
    "df.shape"
   ]
  },
  {
   "cell_type": "code",
   "execution_count": 12,
   "id": "9698338b",
   "metadata": {},
   "outputs": [
    {
     "data": {
      "text/plain": [
       "Index(['Id', 'EmployeeName', 'JobTitle', 'BasePay', 'OvertimePay', 'OtherPay',\n",
       "       'Benefits', 'TotalPay', 'TotalPayBenefits', 'Year', 'Notes', 'Agency',\n",
       "       'Status'],\n",
       "      dtype='object')"
      ]
     },
     "execution_count": 12,
     "metadata": {},
     "output_type": "execute_result"
    }
   ],
   "source": [
    "df.columns"
   ]
  },
  {
   "cell_type": "code",
   "execution_count": 13,
   "id": "5386d5b7",
   "metadata": {},
   "outputs": [
    {
     "data": {
      "text/plain": [
       "Id                    int64\n",
       "EmployeeName         object\n",
       "JobTitle             object\n",
       "BasePay              object\n",
       "OvertimePay          object\n",
       "OtherPay             object\n",
       "Benefits             object\n",
       "TotalPay            float64\n",
       "TotalPayBenefits    float64\n",
       "Year                  int64\n",
       "Notes                object\n",
       "Agency               object\n",
       "Status               object\n",
       "dtype: object"
      ]
     },
     "execution_count": 13,
     "metadata": {},
     "output_type": "execute_result"
    }
   ],
   "source": [
    "df.dtypes"
   ]
  },
  {
   "cell_type": "code",
   "execution_count": 15,
   "id": "57e132ea",
   "metadata": {},
   "outputs": [
    {
     "name": "stdout",
     "output_type": "stream",
     "text": [
      "<class 'pandas.core.frame.DataFrame'>\n",
      "RangeIndex: 148654 entries, 0 to 148653\n",
      "Data columns (total 13 columns):\n",
      " #   Column            Non-Null Count   Dtype  \n",
      "---  ------            --------------   -----  \n",
      " 0   Id                148654 non-null  int64  \n",
      " 1   EmployeeName      148654 non-null  object \n",
      " 2   JobTitle          148654 non-null  object \n",
      " 3   BasePay           148049 non-null  object \n",
      " 4   OvertimePay       148654 non-null  object \n",
      " 5   OtherPay          148654 non-null  object \n",
      " 6   Benefits          112495 non-null  object \n",
      " 7   TotalPay          148654 non-null  float64\n",
      " 8   TotalPayBenefits  148654 non-null  float64\n",
      " 9   Year              148654 non-null  int64  \n",
      " 10  Notes             0 non-null       object \n",
      " 11  Agency            148654 non-null  object \n",
      " 12  Status            38119 non-null   object \n",
      "dtypes: float64(2), int64(2), object(9)\n",
      "memory usage: 14.7+ MB\n"
     ]
    }
   ],
   "source": [
    "df.info()"
   ]
  },
  {
   "cell_type": "code",
   "execution_count": 16,
   "id": "d371c8fe",
   "metadata": {},
   "outputs": [
    {
     "data": {
      "text/plain": [
       "Id                       0\n",
       "EmployeeName             0\n",
       "JobTitle                 0\n",
       "BasePay                605\n",
       "OvertimePay              0\n",
       "OtherPay                 0\n",
       "Benefits             36159\n",
       "TotalPay                 0\n",
       "TotalPayBenefits         0\n",
       "Year                     0\n",
       "Notes               148654\n",
       "Agency                   0\n",
       "Status              110535\n",
       "dtype: int64"
      ]
     },
     "execution_count": 16,
     "metadata": {},
     "output_type": "execute_result"
    }
   ],
   "source": [
    "df.isnull().sum()"
   ]
  },
  {
   "cell_type": "markdown",
   "id": "b993b225",
   "metadata": {},
   "source": [
    "1. **Top 10 empleados con mayor salario total (incluyendo beneficios)**\n",
    "Extrae e imprime un top 10 de expleados con mayor salario incluyendo los beneficios \n"
   ]
  },
  {
   "cell_type": "code",
   "execution_count": 19,
   "id": "135f2471",
   "metadata": {},
   "outputs": [
    {
     "name": "stdout",
     "output_type": "stream",
     "text": [
      "                EmployeeName                                        JobTitle  \\\n",
      "0             NATHANIEL FORD  GENERAL MANAGER-METROPOLITAN TRANSIT AUTHORITY   \n",
      "1               GARY JIMENEZ                 CAPTAIN III (POLICE DEPARTMENT)   \n",
      "110531           David Shinn                                  Deputy Chief 3   \n",
      "110532            Amy P Hart                               Asst Med Examiner   \n",
      "110533  William J Coaker Jr.                        Chief Investment Officer   \n",
      "72925         Gregory P Suhr                                 Chief of Police   \n",
      "72926   Joanne M Hayes-White                          Chief, Fire Department   \n",
      "110534        Gregory P Suhr                                 Chief of Police   \n",
      "110535  Joanne M Hayes-White                          Chief, Fire Department   \n",
      "110536       Ellen G Moffatt                               Asst Med Examiner   \n",
      "\n",
      "        TotalPayBenefits  \n",
      "0              567595.43  \n",
      "1              538909.28  \n",
      "110531         510732.68  \n",
      "110532         479652.21  \n",
      "110533         436224.36  \n",
      "72925          425815.28  \n",
      "72926          422353.40  \n",
      "110534         418019.22  \n",
      "110535         417435.10  \n",
      "110536         415767.94  \n"
     ]
    }
   ],
   "source": [
    "#todo\n",
    "top10 = df.sort_values(by = 'TotalPayBenefits', ascending = False).head(10)\n",
    "\n",
    "print(top10[['EmployeeName', 'JobTitle', 'TotalPayBenefits']])"
   ]
  },
  {
   "cell_type": "markdown",
   "id": "fd03ce6c",
   "metadata": {},
   "source": [
    "2. **Filtrar empleados con más de 50,000 en horas extra, la columna a tratar es: (OvertimePay)**"
   ]
  },
  {
   "cell_type": "code",
   "execution_count": 27,
   "id": "c5dc65c7",
   "metadata": {},
   "outputs": [
    {
     "name": "stdout",
     "output_type": "stream",
     "text": [
      "              EmployeeName                              JobTitle  \\\n",
      "1             GARY JIMENEZ       CAPTAIN III (POLICE DEPARTMENT)   \n",
      "2           ALBERT PARDINI       CAPTAIN III (POLICE DEPARTMENT)   \n",
      "3        CHRISTOPHER CHONG  WIRE ROPE CABLE MAINTENANCE MECHANIC   \n",
      "6                ALSON LEE    BATTALION CHIEF, (FIRE DEPARTMENT)   \n",
      "8           MICHAEL MORRIS    BATTALION CHIEF, (FIRE DEPARTMENT)   \n",
      "...                    ...                                   ...   \n",
      "118288    Francisco A Arce                      Transit Operator   \n",
      "118342    Felix Pagatpatan                      Transit Operator   \n",
      "119450         Bobby Jones              Track Maintenance Worker   \n",
      "119607       Hung V Nguyen             Diagnostic Imaging Tech I   \n",
      "120204  Girma-Worku Zeleke               Parking Control Officer   \n",
      "\n",
      "        TotalPayBenefits  OvertimePay  \n",
      "1              538909.28       245131  \n",
      "2              335279.91       106088  \n",
      "3              332343.61        56120  \n",
      "6              315981.05        89062  \n",
      "8              303427.55        86362  \n",
      "...                  ...          ...  \n",
      "118288         154233.23        51625  \n",
      "118342         153930.05        52550  \n",
      "119450         146927.95        50265  \n",
      "119607         145773.11        74935  \n",
      "120204         141629.07        54738  \n",
      "\n",
      "[2165 rows x 4 columns]\n"
     ]
    }
   ],
   "source": [
    "#todo\n",
    "\n",
    "#Reemplazamos valores no numéricos vacios o raros por NaN y convertimos a float\n",
    "df['OvertimePay'] = pd.to_numeric(df['OvertimePay'], errors='coerce')\n",
    "\n",
    "#rellenamos los NaN con 0 (si tiene sentido en tu contexto)\n",
    "df['OvertimePay'] = df['OvertimePay'].fillna(0)\n",
    "\n",
    "#convertimos a int\n",
    "df['OvertimePay'] = df['OvertimePay'].astype(int)\n",
    "\n",
    "horas_extras = df[df['OvertimePay'] > 50000]\n",
    "print(horas_extras[['EmployeeName', 'JobTitle', 'TotalPayBenefits', 'OvertimePay']])\n",
    "\n"
   ]
  },
  {
   "cell_type": "markdown",
   "id": "518b4eab",
   "metadata": {},
   "source": [
    "3. **Contar cuántos empleados únicos hay por año**"
   ]
  },
  {
   "cell_type": "code",
   "execution_count": 33,
   "id": "e35c5908",
   "metadata": {},
   "outputs": [
    {
     "name": "stdout",
     "output_type": "stream",
     "text": [
      "Year\n",
      "2011    33878\n",
      "2012    34349\n",
      "2013    36150\n",
      "2014    36684\n",
      "Name: EmployeeName, dtype: int64\n"
     ]
    }
   ],
   "source": [
    "#todo\n",
    "\n",
    "empleados_unicos_anio = df.groupby('Year')['EmployeeName'].nunique().sort_values()\n",
    "print(empleados_unicos_anio)\n"
   ]
  },
  {
   "cell_type": "markdown",
   "id": "9105e992",
   "metadata": {},
   "source": [
    "4. **Ver cuántos cargos únicos (JobTitle) existen y los 5 más comunes**"
   ]
  },
  {
   "cell_type": "code",
   "execution_count": 36,
   "id": "e388d537",
   "metadata": {},
   "outputs": [
    {
     "name": "stdout",
     "output_type": "stream",
     "text": [
      "2159\n"
     ]
    }
   ],
   "source": [
    "#todo\n",
    "\n",
    "cant_cargos_unicos = df['JobTitle'].nunique()\n",
    "print(cant_cargos_unicos)"
   ]
  },
  {
   "cell_type": "code",
   "execution_count": 42,
   "id": "d4032b48",
   "metadata": {},
   "outputs": [
    {
     "name": "stdout",
     "output_type": "stream",
     "text": [
      "JobTitle\n",
      "Transit Operator                7036\n",
      "Special Nurse                   4389\n",
      "Registered Nurse                3736\n",
      "Public Svc Aide-Public Works    2518\n",
      "Police Officer 3                2421\n",
      "Name: count, dtype: int64\n"
     ]
    }
   ],
   "source": [
    "cargos_mas_comunes = df['JobTitle'].value_counts().head(5)\n",
    "print(cargos_mas_comunes)"
   ]
  },
  {
   "cell_type": "markdown",
   "id": "b34c7043",
   "metadata": {},
   "source": [
    "5. **Mostrar el salario total (TotalPay) promedio por año**"
   ]
  },
  {
   "cell_type": "code",
   "execution_count": null,
   "id": "64d765f0",
   "metadata": {},
   "outputs": [
    {
     "name": "stdout",
     "output_type": "stream",
     "text": [
      "Year\n",
      "2011    71744.0\n",
      "2012    74113.0\n",
      "2013    77611.0\n",
      "2014    75464.0\n",
      "Name: TotalPay, dtype: float64\n"
     ]
    }
   ],
   "source": [
    "#todo\n",
    "salario_promedio_anio = df.groupby('Year')['TotalPay'].mean().round()\n",
    "print(salario_promedio_anio)\n"
   ]
  },
  {
   "cell_type": "markdown",
   "id": "cd1d7071",
   "metadata": {},
   "source": [
    "6. **Exporta todos los datos a un CSV y muestra los ultimos 10 valores**"
   ]
  },
  {
   "cell_type": "code",
   "execution_count": null,
   "id": "1f27e45c",
   "metadata": {},
   "outputs": [],
   "source": [
    "#todo"
   ]
  }
 ],
 "metadata": {
  "kernelspec": {
   "display_name": "env",
   "language": "python",
   "name": "python3"
  },
  "language_info": {
   "codemirror_mode": {
    "name": "ipython",
    "version": 3
   },
   "file_extension": ".py",
   "mimetype": "text/x-python",
   "name": "python",
   "nbconvert_exporter": "python",
   "pygments_lexer": "ipython3",
   "version": "3.12.9"
  }
 },
 "nbformat": 4,
 "nbformat_minor": 5
}
